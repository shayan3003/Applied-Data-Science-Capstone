{
 "cells": [
  {
   "cell_type": "markdown",
   "metadata": {},
   "source": [
    "<p style=\"text-align:center\">\n",
    "    <a href=\"https://skills.network\" target=\"_blank\">\n",
    "    <img src=\"https://cf-courses-data.s3.us.cloud-object-storage.appdomain.cloud/assets/logos/SN_web_lightmode.png\" width=\"200\" alt=\"Skills Network Logo\">\n",
    "    </a>\n",
    "</p>\n"
   ]
  },
  {
   "cell_type": "markdown",
   "metadata": {},
   "source": [
    "# **Space X  Falcon 9 First Stage Landing Prediction**\n"
   ]
  },
  {
   "cell_type": "markdown",
   "metadata": {},
   "source": [
    "## Web scraping Falcon 9 and Falcon Heavy Launches Records from Wikipedia\n"
   ]
  },
  {
   "cell_type": "markdown",
   "metadata": {},
   "source": [
    "Estimated time needed: **40** minutes\n"
   ]
  },
  {
   "cell_type": "markdown",
   "metadata": {},
   "source": [
    "In this lab, you will be performing web scraping to collect Falcon 9 historical launch records from a Wikipedia page titled `List of Falcon 9 and Falcon Heavy launches`\n",
    "\n",
    "https://en.wikipedia.org/wiki/List_of_Falcon_9_and_Falcon_Heavy_launches\n"
   ]
  },
  {
   "cell_type": "markdown",
   "metadata": {},
   "source": [
    "![](https://cf-courses-data.s3.us.cloud-object-storage.appdomain.cloud/IBM-DS0321EN-SkillsNetwork/labs/module_1_L2/images/Falcon9_rocket_family.svg)\n"
   ]
  },
  {
   "cell_type": "markdown",
   "metadata": {},
   "source": [
    "Falcon 9 first stage will land successfully\n"
   ]
  },
  {
   "cell_type": "markdown",
   "metadata": {},
   "source": [
    "![](https://cf-courses-data.s3.us.cloud-object-storage.appdomain.cloud/IBMDeveloperSkillsNetwork-DS0701EN-SkillsNetwork/api/Images/landing_1.gif)\n"
   ]
  },
  {
   "cell_type": "markdown",
   "metadata": {},
   "source": [
    "Several examples of an unsuccessful landing are shown here:\n"
   ]
  },
  {
   "cell_type": "markdown",
   "metadata": {},
   "source": [
    "![](https://cf-courses-data.s3.us.cloud-object-storage.appdomain.cloud/IBMDeveloperSkillsNetwork-DS0701EN-SkillsNetwork/api/Images/crash.gif)\n"
   ]
  },
  {
   "cell_type": "markdown",
   "metadata": {},
   "source": [
    "More specifically, the launch records are stored in a HTML table shown below:\n"
   ]
  },
  {
   "cell_type": "markdown",
   "metadata": {},
   "source": [
    "![](https://cf-courses-data.s3.us.cloud-object-storage.appdomain.cloud/IBM-DS0321EN-SkillsNetwork/labs/module_1_L2/images/falcon9-launches-wiki.png)\n"
   ]
  },
  {
   "cell_type": "markdown",
   "metadata": {},
   "source": [
    "  ## Objectives\n",
    "Web scrap Falcon 9 launch records with `BeautifulSoup`: \n",
    "- Extract a Falcon 9 launch records HTML table from Wikipedia\n",
    "- Parse the table and convert it into a Pandas data frame\n"
   ]
  },
  {
   "cell_type": "markdown",
   "metadata": {},
   "source": [
    "First let's import required packages for this lab\n"
   ]
  },
  {
   "cell_type": "code",
   "execution_count": 1,
   "metadata": {
    "tags": []
   },
   "outputs": [
    {
     "name": "stdout",
     "output_type": "stream",
     "text": [
      "Requirement already satisfied: beautifulsoup4 in /home/jupyterlab/conda/envs/python/lib/python3.7/site-packages (4.11.1)\n",
      "Requirement already satisfied: soupsieve>1.2 in /home/jupyterlab/conda/envs/python/lib/python3.7/site-packages (from beautifulsoup4) (2.3.2.post1)\n",
      "Requirement already satisfied: requests in /home/jupyterlab/conda/envs/python/lib/python3.7/site-packages (2.29.0)\n",
      "Requirement already satisfied: charset-normalizer<4,>=2 in /home/jupyterlab/conda/envs/python/lib/python3.7/site-packages (from requests) (3.1.0)\n",
      "Requirement already satisfied: idna<4,>=2.5 in /home/jupyterlab/conda/envs/python/lib/python3.7/site-packages (from requests) (3.4)\n",
      "Requirement already satisfied: urllib3<1.27,>=1.21.1 in /home/jupyterlab/conda/envs/python/lib/python3.7/site-packages (from requests) (1.26.15)\n",
      "Requirement already satisfied: certifi>=2017.4.17 in /home/jupyterlab/conda/envs/python/lib/python3.7/site-packages (from requests) (2023.5.7)\n"
     ]
    }
   ],
   "source": [
    "!pip3 install beautifulsoup4\n",
    "!pip3 install requests"
   ]
  },
  {
   "cell_type": "code",
   "execution_count": 2,
   "metadata": {
    "tags": []
   },
   "outputs": [],
   "source": [
    "import sys\n",
    "\n",
    "import requests\n",
    "from bs4 import BeautifulSoup\n",
    "import re\n",
    "import unicodedata\n",
    "import pandas as pd"
   ]
  },
  {
   "cell_type": "markdown",
   "metadata": {},
   "source": [
    "and we will provide some helper functions for you to process web scraped HTML table\n"
   ]
  },
  {
   "cell_type": "code",
   "execution_count": 3,
   "metadata": {
    "tags": []
   },
   "outputs": [],
   "source": [
    "def date_time(table_cells):\n",
    "    \"\"\"\n",
    "    This function returns the data and time from the HTML  table cell\n",
    "    Input: the  element of a table data cell extracts extra row\n",
    "    \"\"\"\n",
    "    return [data_time.strip() for data_time in list(table_cells.strings)][0:2]\n",
    "\n",
    "def booster_version(table_cells):\n",
    "    \"\"\"\n",
    "    This function returns the booster version from the HTML  table cell \n",
    "    Input: the  element of a table data cell extracts extra row\n",
    "    \"\"\"\n",
    "    out=''.join([booster_version for i,booster_version in enumerate( table_cells.strings) if i%2==0][0:-1])\n",
    "    return out\n",
    "\n",
    "def landing_status(table_cells):\n",
    "    \"\"\"\n",
    "    This function returns the landing status from the HTML table cell \n",
    "    Input: the  element of a table data cell extracts extra row\n",
    "    \"\"\"\n",
    "    out=[i for i in table_cells.strings][0]\n",
    "    return out\n",
    "\n",
    "\n",
    "def get_mass(table_cells):\n",
    "    mass=unicodedata.normalize(\"NFKD\", table_cells.text).strip()\n",
    "    if mass:\n",
    "        mass.find(\"kg\")\n",
    "        new_mass=mass[0:mass.find(\"kg\")+2]\n",
    "    else:\n",
    "        new_mass=0\n",
    "    return new_mass\n",
    "\n",
    "\n",
    "def extract_column_from_header(row):\n",
    "    \"\"\"\n",
    "    This function returns the landing status from the HTML table cell \n",
    "    Input: the  element of a table data cell extracts extra row\n",
    "    \"\"\"\n",
    "    if (row.br):\n",
    "        row.br.extract()\n",
    "    if row.a:\n",
    "        row.a.extract()\n",
    "    if row.sup:\n",
    "        row.sup.extract()\n",
    "        \n",
    "    colunm_name = ' '.join(row.contents)\n",
    "    \n",
    "    # Filter the digit and empty names\n",
    "    if not(colunm_name.strip().isdigit()):\n",
    "        colunm_name = colunm_name.strip()\n",
    "        return colunm_name    \n"
   ]
  },
  {
   "cell_type": "markdown",
   "metadata": {},
   "source": [
    "To keep the lab tasks consistent, you will be asked to scrape the data from a snapshot of the  `List of Falcon 9 and Falcon Heavy launches` Wikipage updated on\n",
    "`9th June 2021`\n"
   ]
  },
  {
   "cell_type": "code",
   "execution_count": 4,
   "metadata": {
    "tags": []
   },
   "outputs": [],
   "source": [
    "static_url = \"https://en.wikipedia.org/w/index.php?title=List_of_Falcon_9_and_Falcon_Heavy_launches&oldid=1027686922\""
   ]
  },
  {
   "cell_type": "markdown",
   "metadata": {},
   "source": [
    "Next, request the HTML page from the above URL and get a `response` object\n"
   ]
  },
  {
   "cell_type": "markdown",
   "metadata": {},
   "source": [
    "### TASK 1: Request the Falcon9 Launch Wiki page from its URL\n"
   ]
  },
  {
   "cell_type": "markdown",
   "metadata": {},
   "source": [
    "First, let's perform an HTTP GET method to request the Falcon9 Launch HTML page, as an HTTP response.\n"
   ]
  },
  {
   "cell_type": "code",
   "execution_count": 5,
   "metadata": {
    "tags": []
   },
   "outputs": [
    {
     "name": "stdout",
     "output_type": "stream",
     "text": [
      "Response Status Code: 200\n"
     ]
    }
   ],
   "source": [
    "# use requests.get() method with the provided static_url\n",
    "import requests\n",
    "\n",
    "# Define the URL for the Falcon 9 Launch Wikipedia page\n",
    "static_url = \"https://en.wikipedia.org/wiki/List_of_Falcon_9_and_Falcon_Heavy_launches\"\n",
    "\n",
    "# Perform the HTTP GET request\n",
    "response = requests.get(static_url)\n",
    "\n",
    "# Print response status to check if the request was successful\n",
    "print(f\"Response Status Code: {response.status_code}\")  # Should be 200 if successful\n",
    "# assign the response to a object"
   ]
  },
  {
   "cell_type": "markdown",
   "metadata": {},
   "source": [
    "Create a `BeautifulSoup` object from the HTML `response`\n"
   ]
  },
  {
   "cell_type": "code",
   "execution_count": 6,
   "metadata": {
    "tags": []
   },
   "outputs": [
    {
     "name": "stdout",
     "output_type": "stream",
     "text": [
      "<!DOCTYPE html>\n",
      "<html class=\"client-nojs vector-feature-language-in-header-enabled vector-feature-language-in-main-page-header-disabled vector-feature-page-tools-pinned-disabled vector-feature-toc-pinned-clientpref-1 vector-feature-main-menu-pinned-disabled vector-feature-limited-width-clientpref-1 vector-feature-limited-width-content-enabled vector-feature-custom-font-size-clientpref-1 vector-feature-appearance-pinned-clientpref-1 vector-feature-night-mode-enabled skin-theme-clientpref-day vect\n"
     ]
    }
   ],
   "source": [
    "# Use BeautifulSoup() to create a BeautifulSoup object from a response text content\n",
    "soup = BeautifulSoup(response.text, 'html.parser')\n",
    "print(soup.prettify()[:500])"
   ]
  },
  {
   "cell_type": "markdown",
   "metadata": {},
   "source": [
    "Print the page title to verify if the `BeautifulSoup` object was created properly \n"
   ]
  },
  {
   "cell_type": "code",
   "execution_count": 7,
   "metadata": {
    "tags": []
   },
   "outputs": [
    {
     "name": "stdout",
     "output_type": "stream",
     "text": [
      "List of Falcon 9 and Falcon Heavy launches - Wikipedia\n"
     ]
    }
   ],
   "source": [
    "# Use soup.title attribute\n",
    "print(soup.title.string)"
   ]
  },
  {
   "cell_type": "markdown",
   "metadata": {},
   "source": [
    "### TASK 2: Extract all column/variable names from the HTML table header\n"
   ]
  },
  {
   "cell_type": "markdown",
   "metadata": {},
   "source": [
    "Next, we want to collect all relevant column names from the HTML table header\n"
   ]
  },
  {
   "cell_type": "markdown",
   "metadata": {},
   "source": [
    "Let's try to find all tables on the wiki page first. If you need to refresh your memory about `BeautifulSoup`, please check the external reference link towards the end of this lab\n"
   ]
  },
  {
   "cell_type": "code",
   "execution_count": 8,
   "metadata": {
    "tags": []
   },
   "outputs": [
    {
     "name": "stdout",
     "output_type": "stream",
     "text": [
      "Number of tables found: 17\n"
     ]
    }
   ],
   "source": [
    "# Use the find_all function in the BeautifulSoup object, with element type `table`\n",
    "# Find all tables on the page\n",
    "html_tables = soup.find_all('table')\n",
    "\n",
    "# Print the number of tables found\n",
    "print(f\"Number of tables found: {len(html_tables)}\")\n",
    "\n",
    "# Assign the result to a list called `html_tables`\n"
   ]
  },
  {
   "cell_type": "markdown",
   "metadata": {},
   "source": [
    "Starting from the third table is our target table contains the actual launch records.\n"
   ]
  },
  {
   "cell_type": "code",
   "execution_count": 9,
   "metadata": {
    "tags": []
   },
   "outputs": [
    {
     "name": "stdout",
     "output_type": "stream",
     "text": [
      "<table class=\"wikitable plainrowheaders collapsible sticky-header\" id=\"2025ytd\" style=\"width: 100%;\">\n",
      "<tbody><tr>\n",
      "<th scope=\"col\">Flight No.\n",
      "</th>\n",
      "<th scope=\"col\">Date and<br/>time (<a href=\"/wiki/Coordinated_Universal_Time\" title=\"Coordinated Universal Time\">UTC</a>)\n",
      "</th>\n",
      "<th scope=\"col\"><a href=\"/wiki/List_of_Falcon_9_first-stage_boosters\" title=\"List of Falcon 9 first-stage boosters\">Version,<br/>booster</a><sup class=\"reference\" id=\"cite_ref-booster_22-2\"><a href=\"#cite_note-booster-22\"><span class=\"cite-bracket\">[</span>f<span class=\"cite-bracket\">]</span></a></sup>\n",
      "</th>\n",
      "<th scope=\"col\">Launch<br/>site\n",
      "</th>\n",
      "<th scope=\"col\">Payload<sup class=\"reference\" id=\"cite_ref-Dragon_23-2\"><a href=\"#cite_note-Dragon-23\"><span class=\"cite-bracket\">[</span>g<span class=\"cite-bracket\">]</span></a></sup>\n",
      "</th>\n",
      "<th scope=\"col\">Payload mass\n",
      "</th>\n",
      "<th scope=\"col\">Orbit\n",
      "</th>\n",
      "<th scope=\"col\">Customer\n",
      "</th>\n",
      "<th scope=\"col\">Launch<br/>outcome\n",
      "</th>\n",
      "<th scope=\"col\"><a href=\"/wiki/Falcon_9_first-stage_landing_tests\" title=\"Falcon 9 first-stage landing tests\">Booster<br/>landing</a>\n",
      "</th></tr>\n",
      "<tr id=\"F9-418\">\n",
      "<th rowspan=\"2\" scope=\"row\" style=\"text-align:center;\">418\n",
      "</th>\n",
      "<td>4 January 2025<br/>01:27<sup class=\"reference\" id=\"cite_ref-462\"><a href=\"#cite_note-462\"><span class=\"cite-bracket\">[</span>454<span class=\"cite-bracket\">]</span></a></sup>\n",
      "</td>\n",
      "<td><a href=\"/wiki/Falcon_9_Block_5\" title=\"Falcon 9 Block 5\">F9<span class=\"nowrap\"> </span>B5</a><br/><a href=\"/wiki/List_of_Falcon_9_first-stage_boosters#B1073\" title=\"List of Falcon 9 first-stage boosters\">B1073.20</a>\n",
      "</td>\n",
      "<td><a href=\"/wiki/Cape_Canaveral_Space_Force_Station\" title=\"Cape Canaveral Space Force Station\">Cape Canaveral</a>, <a href=\"/wiki/Cape_Canaveral_Space_Launch_Complex_40\" title=\"Cape Canaveral Space Launch Complex 40\">SLC‑40</a>\n",
      "</td>\n",
      "<td><a href=\"/wiki/Thuraya#Satellites\" title=\"Thuraya\">Thuraya 4-NGS</a>\n",
      "</td>\n",
      "<td>5,000 kg (11,000 lb)\n",
      "</td>\n",
      "<td><a href=\"/wiki/Geostationary_transfer_orbit\" title=\"Geostationary transfer orbit\">GTO</a>\n",
      "</td>\n",
      "<td><a href=\"/wiki/Thuraya\" title=\"Thuraya\">Thuraya</a>\n",
      "</td>\n",
      "<td class=\"table-success\" style=\"background: #9EFF9E; color:black; vertical-align: middle; text-align: center;\">Success\n",
      "</td>\n",
      "<td class=\"table-success\" style=\"background: #9EFF9E; color:black; vertical-align: middle; text-align: center;\">Success (<a class=\"mw-redirect\" href=\"/wiki/A_Shortfall_of_Gravitas\" title=\"A Shortfall of Gravitas\">ASOG</a>)\n",
      "</td></tr>\n",
      "<tr>\n",
      "<td colspan=\"9\">Planned replacement for Thuraya 2 and 3.<sup class=\"reference\" id=\"cite_ref-sn-20210908_463-0\"><a href=\"#cite_note-sn-20210908-463\"><span class=\"cite-bracket\">[</span>455<span class=\"cite-bracket\">]</span></a></sup><sup class=\"reference\" id=\"cite_ref-464\"><a href=\"#cite_note-464\"><span class=\"cite-bracket\">[</span>456<span class=\"cite-bracket\">]</span></a></sup>\n",
      "</td></tr>\n",
      "<tr id=\"F9-419\">\n",
      "<th rowspan=\"2\" scope=\"row\" style=\"text-align:center;\">419\n",
      "</th>\n",
      "<td>6 January 2025<br/>20:43<sup class=\"reference\" id=\"cite_ref-465\"><a href=\"#cite_note-465\"><span class=\"cite-bracket\">[</span>457<span class=\"cite-bracket\">]</span></a></sup>\n",
      "</td>\n",
      "<td><a href=\"/wiki/Falcon_9_Block_5\" title=\"Falcon 9 Block 5\">F9<span class=\"nowrap\"> </span>B5</a><br/><a href=\"/wiki/List_of_Falcon_9_first-stage_boosters#B1077\" title=\"List of Falcon 9 first-stage boosters\">B1077.17</a>\n",
      "</td>\n",
      "<td><a href=\"/wiki/Cape_Canaveral_Space_Force_Station\" title=\"Cape Canaveral Space Force Station\">Cape Canaveral</a>, <a href=\"/wiki/Cape_Canaveral_Space_Launch_Complex_40\" title=\"Cape Canaveral Space Launch Complex 40\">SLC‑40</a>\n",
      "</td>\n",
      "<td><a href=\"/wiki/Starlink\" title=\"Starlink\">Starlink</a>: <a href=\"/wiki/List_of_Starlink_and_Starshield_launches#G6-71\" title=\"List of Starlink and Starshield launches\">Group 6‑71</a> (24<span class=\"nowrap\"> </span>satellites)\n",
      "</td>\n",
      "<td>~17,500 kg (38,600 lb)\n",
      "</td>\n",
      "<td><a href=\"/wiki/Low_Earth_orbit\" title=\"Low Earth orbit\">LEO</a>\n",
      "</td>\n",
      "<td><a href=\"/wiki/SpaceX\" title=\"SpaceX\">SpaceX</a>\n",
      "</td>\n",
      "<td class=\"table-success\" style=\"background: #9EFF9E; color:black; vertical-align: middle; text-align: center;\">Success\n",
      "</td>\n",
      "<td class=\"table-success\" style=\"background: #9EFF9E; color:black; vertical-align: middle; text-align: center;\">Success (<a class=\"mw-redirect\" href=\"/wiki/Just_Read_the_Instructions\" title=\"Just Read the Instructions\">JRTI</a>)\n",
      "</td></tr>\n",
      "<tr>\n",
      "<td colspan=\"9\">Launch of 24 Starlink v2<span class=\"nowrap\"> </span>mini satellites to a 559 km (347 mi) orbit at an inclination of 43° to expand internet constellation.\n",
      "</td></tr>\n",
      "<tr id=\"F9-420\">\n",
      "<th rowspan=\"2\" scope=\"row\" style=\"text-align:center;\">420\n",
      "</th>\n",
      "<td>8 January 2025<br/>15:27<sup class=\"reference\" id=\"cite_ref-466\"><a href=\"#cite_note-466\"><span class=\"cite-bracket\">[</span>458<span class=\"cite-bracket\">]</span></a></sup>\n",
      "</td>\n",
      "<td><a href=\"/wiki/Falcon_9_Block_5\" title=\"Falcon 9 Block 5\">F9<span class=\"nowrap\"> </span>B5</a><br/><a href=\"/wiki/List_of_Falcon_9_first-stage_boosters#B1086\" title=\"List of Falcon 9 first-stage boosters\">B1086.3</a>\n",
      "</td>\n",
      "<td><a href=\"/wiki/Kennedy_Space_Center\" title=\"Kennedy Space Center\">Kennedy</a>, <a href=\"/wiki/Kennedy_Space_Center_Launch_Complex_39A\" title=\"Kennedy Space Center Launch Complex 39A\">LC‑39A</a>\n",
      "</td>\n",
      "<td><a href=\"/wiki/Starlink\" title=\"Starlink\">Starlink</a>: <a href=\"/wiki/List_of_Starlink_and_Starshield_launches#G12-11\" title=\"List of Starlink and Starshield launches\">Group 12-11</a> (21 satellites)\n",
      "</td>\n",
      "<td>~16,500 kg (36,400 lb)\n",
      "</td>\n",
      "<td><a href=\"/wiki/Low_Earth_orbit\" title=\"Low Earth orbit\">LEO</a>\n",
      "</td>\n",
      "<td><a href=\"/wiki/SpaceX\" title=\"SpaceX\">SpaceX</a>\n",
      "</td>\n",
      "<td class=\"table-success\" style=\"background: #9EFF9E; color:black; vertical-align: middle; text-align: center;\">Success\n",
      "</td>\n",
      "<td class=\"table-success\" style=\"background: #9EFF9E; color:black; vertical-align: middle; text-align: center;\">Success (<a class=\"mw-redirect\" href=\"/wiki/A_Shortfall_of_Gravitas\" title=\"A Shortfall of Gravitas\">ASOG</a>)\n",
      "</td></tr>\n",
      "<tr>\n",
      "<td colspan=\"9\">Launch of 21 Starlink v2 mini satellites, including 13 with direct-to-cell connectivity, to a 559 km (347 mi) orbit at an inclination of 43° to expand internet constellation.\n",
      "</td></tr>\n",
      "<tr id=\"F9-421\">\n",
      "<th rowspan=\"2\" scope=\"row\" style=\"text-align:center;\">421\n",
      "</th>\n",
      "<td>10 January 2025<br/>03:53<sup class=\"reference\" id=\"cite_ref-467\"><a href=\"#cite_note-467\"><span class=\"cite-bracket\">[</span>459<span class=\"cite-bracket\">]</span></a></sup>\n",
      "</td>\n",
      "<td><a href=\"/wiki/Falcon_9_Block_5\" title=\"Falcon 9 Block 5\">F9<span class=\"nowrap\"> </span>B5</a><br/><a href=\"/wiki/List_of_Falcon_9_first-stage_boosters#B1071\" title=\"List of Falcon 9 first-stage boosters\">B1071.22</a>\n",
      "</td>\n",
      "<td><a href=\"/wiki/Vandenberg_Space_Force_Base\" title=\"Vandenberg Space Force Base\">Vandenberg</a>, <a href=\"/wiki/Vandenberg_Space_Launch_Complex_4\" title=\"Vandenberg Space Launch Complex 4\">SLC‑4E</a>\n",
      "</td>\n",
      "<td>NROL-153 (22 <a href=\"/wiki/SpaceX_Starshield\" title=\"SpaceX Starshield\">Starshield</a> satellites)<sup class=\"reference\" id=\"cite_ref-468\"><a href=\"#cite_note-468\"><span class=\"cite-bracket\">[</span>460<span class=\"cite-bracket\">]</span></a></sup>\n",
      "</td>\n",
      "<td class=\"table-na\" data-sort-value=\"\" style=\"background: var(--background-color-interactive, #ececec); color: var(--color-base, inherit); vertical-align: middle; text-align: center;\">Unknown\n",
      "</td>\n",
      "<td><a href=\"/wiki/Low_Earth_orbit\" title=\"Low Earth orbit\">LEO</a>\n",
      "</td>\n",
      "<td><a href=\"/wiki/National_Reconnaissance_Office\" title=\"National Reconnaissance Office\">NRO</a>\n",
      "</td>\n",
      "<td class=\"table-success\" style=\"background: #9EFF9E; color:black; vertical-align: middle; text-align: center;\">Success\n",
      "</td>\n",
      "<td class=\"table-success\" style=\"background: #9EFF9E; color:black; vertical-align: middle; text-align: center;\">Success (<a class=\"mw-redirect\" href=\"/wiki/Of_Course_I_Still_Love_You\" title=\"Of Course I Still Love You\">OCISLY</a>)\n",
      "</td></tr>\n",
      "<tr>\n",
      "<td colspan=\"9\">Seventh launch of SpaceX/Northrop Grumman-built satellites for the National Reconnaissance Office.\n",
      "</td></tr>\n",
      "<tr id=\"F9-422\">\n",
      "<th rowspan=\"2\" scope=\"row\" style=\"text-align:center;\">422\n",
      "</th>\n",
      "<td>10 January 2025<br/>19:11<sup class=\"reference\" id=\"cite_ref-469\"><a href=\"#cite_note-469\"><span class=\"cite-bracket\">[</span>461<span class=\"cite-bracket\">]</span></a></sup>\n",
      "</td>\n",
      "<td><a href=\"/wiki/Falcon_9_Block_5\" title=\"Falcon 9 Block 5\">F9<span class=\"nowrap\"> </span>B5</a><br/><a href=\"/wiki/List_of_Falcon_9_first-stage_boosters#B1067\" title=\"List of Falcon 9 first-stage boosters\">B1067.25</a>\n",
      "</td>\n",
      "<td><a href=\"/wiki/Cape_Canaveral_Space_Force_Station\" title=\"Cape Canaveral Space Force Station\">Cape Canaveral</a>, <a href=\"/wiki/Cape_Canaveral_Space_Launch_Complex_40\" title=\"Cape Canaveral Space Launch Complex 40\">SLC‑40</a>\n",
      "</td>\n",
      "<td><a href=\"/wiki/Starlink\" title=\"Starlink\">Starlink</a>: <a href=\"/wiki/List_of_Starlink_and_Starshield_launches#G12-12\" title=\"List of Starlink and Starshield launches\">Group 12-12</a> (21 satellites)\n",
      "</td>\n",
      "<td>~16,500 kg (36,400 lb)\n",
      "</td>\n",
      "<td><a href=\"/wiki/Low_Earth_orbit\" title=\"Low Earth orbit\">LEO</a>\n",
      "</td>\n",
      "<td><a href=\"/wiki/SpaceX\" title=\"SpaceX\">SpaceX</a>\n",
      "</td>\n",
      "<td class=\"table-success\" style=\"background: #9EFF9E; color:black; vertical-align: middle; text-align: center;\">Success\n",
      "</td>\n",
      "<td class=\"table-success\" style=\"background: #9EFF9E; color:black; vertical-align: middle; text-align: center;\">Success (<a class=\"mw-redirect\" href=\"/wiki/Just_Read_the_Instructions\" title=\"Just Read the Instructions\">JRTI</a>)\n",
      "</td></tr>\n",
      "<tr>\n",
      "<td colspan=\"9\">Launch of 21 Starlink v2 mini satellites, including 13 with direct-to-cell connectivity, to a 559 km (347 mi) orbit at an inclination of 43° to expand internet constellation. First booster to fly 25th time, new record.\n",
      "</td></tr>\n",
      "<tr id=\"F9-423\">\n",
      "<th rowspan=\"2\" scope=\"row\" style=\"text-align:center;\">423\n",
      "</th>\n",
      "<td>13 January 2025<br/>16:47<sup class=\"reference\" id=\"cite_ref-470\"><a href=\"#cite_note-470\"><span class=\"cite-bracket\">[</span>462<span class=\"cite-bracket\">]</span></a></sup>\n",
      "</td>\n",
      "<td><a href=\"/wiki/Falcon_9_Block_5\" title=\"Falcon 9 Block 5\">F9<span class=\"nowrap\"> </span>B5</a><br/><a href=\"/wiki/List_of_Falcon_9_first-stage_boosters#B1080\" title=\"List of Falcon 9 first-stage boosters\">B1080.15</a>\n",
      "</td>\n",
      "<td><a href=\"/wiki/Cape_Canaveral_Space_Force_Station\" title=\"Cape Canaveral Space Force Station\">Cape Canaveral</a>, <a href=\"/wiki/Cape_Canaveral_Space_Launch_Complex_40\" title=\"Cape Canaveral Space Launch Complex 40\">SLC‑40</a>\n",
      "</td>\n",
      "<td><a href=\"/wiki/Starlink\" title=\"Starlink\">Starlink</a>: <a href=\"/wiki/List_of_Starlink_and_Starshield_launches#G12-4\" title=\"List of Starlink and Starshield launches\">Group 12-4</a> (21 satellites)\n",
      "</td>\n",
      "<td>~16,500 kg (36,400 lb)\n",
      "</td>\n",
      "<td><a href=\"/wiki/Low_Earth_orbit\" title=\"Low Earth orbit\">LEO</a>\n",
      "</td>\n",
      "<td><a href=\"/wiki/SpaceX\" title=\"SpaceX\">SpaceX</a>\n",
      "</td>\n",
      "<td class=\"table-success\" style=\"background: #9EFF9E; color:black; vertical-align: middle; text-align: center;\">Success\n",
      "</td>\n",
      "<td class=\"table-success\" style=\"background: #9EFF9E; color:black; vertical-align: middle; text-align: center;\">Success (<a class=\"mw-redirect\" href=\"/wiki/A_Shortfall_of_Gravitas\" title=\"A Shortfall of Gravitas\">ASOG</a>)\n",
      "</td></tr>\n",
      "<tr>\n",
      "<td colspan=\"9\">Launch of 21 Starlink v2 mini satellites, including 13 with direct-to-cell connectivity, to a 559 km (347 mi) orbit at an inclination of 43° to expand internet constellation.\n",
      "</td></tr>\n",
      "<tr id=\"F9-424\">\n",
      "<th rowspan=\"2\" scope=\"row\" style=\"text-align:center;\">424\n",
      "</th>\n",
      "<td>14 January 2025<br/>19:09<sup class=\"reference\" id=\"cite_ref-471\"><a href=\"#cite_note-471\"><span class=\"cite-bracket\">[</span>463<span class=\"cite-bracket\">]</span></a></sup>\n",
      "</td>\n",
      "<td><a href=\"/wiki/Falcon_9_Block_5\" title=\"Falcon 9 Block 5\">F9<span class=\"nowrap\"> </span>B5</a><br/><a href=\"/wiki/List_of_Falcon_9_first-stage_boosters#B1088\" title=\"List of Falcon 9 first-stage boosters\">B1088.2</a>\n",
      "</td>\n",
      "<td><a href=\"/wiki/Vandenberg_Space_Force_Base\" title=\"Vandenberg Space Force Base\">Vandenberg</a>, <a href=\"/wiki/Vandenberg_Space_Launch_Complex_4\" title=\"Vandenberg Space Launch Complex 4\">SLC‑4E</a>\n",
      "</td>\n",
      "<td><a href=\"/wiki/List_of_spaceflight_launches_in_January%E2%80%93June_2025#SpXTransporter12\" title=\"List of spaceflight launches in January–June 2025\">Transporter-12</a> (131 payload smallsat rideshare)\n",
      "</td>\n",
      "<td class=\"table-na\" data-sort-value=\"\" style=\"background: var(--background-color-interactive, #ececec); color: var(--color-base, inherit); vertical-align: middle; text-align: center;\">Unknown<sup class=\"reference\" id=\"cite_ref-Noexactnessofpayload_mass_25-6\"><a href=\"#cite_note-Noexactnessofpayload_mass-25\"><span class=\"cite-bracket\">[</span>h<span class=\"cite-bracket\">]</span></a></sup>\n",
      "</td>\n",
      "<td><a href=\"/wiki/Sun-synchronous_orbit\" title=\"Sun-synchronous orbit\">SSO</a>\n",
      "</td>\n",
      "<td>Various\n",
      "</td>\n",
      "<td class=\"table-success\" style=\"background: #9EFF9E; color:black; vertical-align: middle; text-align: center;\">Success\n",
      "</td>\n",
      "<td class=\"table-success\" style=\"background: #9EFF9E; color:black; vertical-align: middle; text-align: center;\">Success (<a class=\"mw-redirect\" href=\"/wiki/SpaceX_Landing_Zone_4\" title=\"SpaceX Landing Zone 4\">LZ‑4</a>)\n",
      "</td></tr>\n",
      "<tr>\n",
      "<td colspan=\"9\">Dedicated SmallSat Rideshare mission to sun-synchronous orbit.\n",
      "</td></tr>\n",
      "<tr id=\"F9-425\">\n",
      "<th rowspan=\"3\" scope=\"row\" style=\"text-align:center;\">425\n",
      "</th>\n",
      "<td rowspan=\"2\">15 January 2025<br/>06:11<sup class=\"reference\" id=\"cite_ref-472\"><a href=\"#cite_note-472\"><span class=\"cite-bracket\">[</span>464<span class=\"cite-bracket\">]</span></a></sup>\n",
      "</td>\n",
      "<td rowspan=\"2\"><a href=\"/wiki/Falcon_9_Block_5\" title=\"Falcon 9 Block 5\">F9<span class=\"nowrap\"> </span>B5</a><br/><a href=\"/wiki/List_of_Falcon_9_first-stage_boosters#B1085\" title=\"List of Falcon 9 first-stage boosters\">B1085.5</a>\n",
      "</td>\n",
      "<td rowspan=\"2\"><a href=\"/wiki/Kennedy_Space_Center\" title=\"Kennedy Space Center\">Kennedy</a>, <a href=\"/wiki/Kennedy_Space_Center_Launch_Complex_39A\" title=\"Kennedy Space Center Launch Complex 39A\">LC‑39A</a>\n",
      "</td>\n",
      "<td><a href=\"/wiki/Blue_Ghost_Mission_1\" title=\"Blue Ghost Mission 1\">Blue Ghost Mission 1</a>\n",
      "</td>\n",
      "<td rowspan=\"2\">2,517 kg (5,549 lb)\n",
      "</td>\n",
      "<td rowspan=\"2\"><a class=\"mw-redirect\" href=\"/wiki/Trans_Lunar_Injection\" title=\"Trans Lunar Injection\">TLI</a>\n",
      "</td>\n",
      "<td><a href=\"/wiki/Firefly_Aerospace\" title=\"Firefly Aerospace\">Firefly Aerospace</a> &amp; NASA (<a href=\"/wiki/Commercial_Lunar_Payload_Services\" title=\"Commercial Lunar Payload Services\">CLPS</a>)\n",
      "</td>\n",
      "<td class=\"table-success\" rowspan=\"2\" style=\"background: #9EFF9E; color:black; vertical-align: middle; text-align: center;\">Success\n",
      "</td>\n",
      "<td class=\"table-success\" rowspan=\"2\" style=\"background: #9EFF9E; color:black; vertical-align: middle; text-align: center;\">Success (<a class=\"mw-redirect\" href=\"/wiki/Just_Read_the_Instructions\" title=\"Just Read the Instructions\">JRTI</a>)\n",
      "</td></tr>\n",
      "<tr>\n",
      "<td><a href=\"/wiki/Hakuto-R_Mission_2\" title=\"Hakuto-R Mission 2\">Hakuto-R Mission 2</a>\n",
      "</td>\n",
      "<td><a class=\"mw-redirect\" href=\"/wiki/Ispace_(Japanese_company)\" title=\"Ispace (Japanese company)\">ispace</a>\n",
      "</td></tr>\n",
      "<tr>\n",
      "<td colspan=\"9\">Both Blue Ghost Mission 1<sup class=\"reference\" id=\"cite_ref-473\"><a href=\"#cite_note-473\"><span class=\"cite-bracket\">[</span>465<span class=\"cite-bracket\">]</span></a></sup><sup class=\"reference\" id=\"cite_ref-474\"><a href=\"#cite_note-474\"><span class=\"cite-bracket\">[</span>466<span class=\"cite-bracket\">]</span></a></sup> and Hakuto-R Mission 2 (Resilience lander)<sup class=\"reference\" id=\"cite_ref-475\"><a href=\"#cite_note-475\"><span class=\"cite-bracket\">[</span>467<span class=\"cite-bracket\">]</span></a></sup><sup class=\"reference\" id=\"cite_ref-ispr25122_476-0\"><a href=\"#cite_note-ispr25122-476\"><span class=\"cite-bracket\">[</span>468<span class=\"cite-bracket\">]</span></a></sup> launched together on a single rocket (first of its kind deep space lander launch). Blue Ghost will carry 10 payloads for NASA's <a href=\"/wiki/Commercial_Lunar_Payload_Services\" title=\"Commercial Lunar Payload Services\">Commercial Lunar Payload Services</a> task order 19D mission and other separately contracted payloads.<sup class=\"reference\" id=\"cite_ref-477\"><a href=\"#cite_note-477\"><span class=\"cite-bracket\">[</span>469<span class=\"cite-bracket\">]</span></a></sup> Resilience is the second lunar lander built by Japanese company <a class=\"mw-redirect\" href=\"/wiki/Ispace_(Japanese_company)\" title=\"Ispace (Japanese company)\">ispace</a> and will deliver TENACIOUS mini rover to the lunar surface. To house both landers in the payload fairing, SpaceX used a new dual-launch carrying structure.\n",
      "</td></tr>\n",
      "<tr id=\"F9-426\">\n",
      "<th rowspan=\"2\" scope=\"row\" style=\"text-align:center;\">426\n",
      "</th>\n",
      "<td>21 January 2025<br/>05:24<sup class=\"reference\" id=\"cite_ref-478\"><a href=\"#cite_note-478\"><span class=\"cite-bracket\">[</span>470<span class=\"cite-bracket\">]</span></a></sup>\n",
      "</td>\n",
      "<td><a href=\"/wiki/Falcon_9_Block_5\" title=\"Falcon 9 Block 5\">F9<span class=\"nowrap\"> </span>B5</a><br/><a href=\"/wiki/List_of_Falcon_9_first-stage_boosters#B1083\" title=\"List of Falcon 9 first-stage boosters\">B1083.8</a>\n",
      "</td>\n",
      "<td><a href=\"/wiki/Kennedy_Space_Center\" title=\"Kennedy Space Center\">Kennedy</a>, <a href=\"/wiki/Kennedy_Space_Center_Launch_Complex_39A\" title=\"Kennedy Space Center Launch Complex 39A\">LC‑39A</a>\n",
      "</td>\n",
      "<td><a href=\"/wiki/Starlink\" title=\"Starlink\">Starlink</a>: <a href=\"/wiki/List_of_Starlink_and_Starshield_launches#G13-1\" title=\"List of Starlink and Starshield launches\">Group 13-1</a> (21 satellites)\n",
      "</td>\n",
      "<td>~15,300 kg (33,700 lb)\n",
      "</td>\n",
      "<td><a href=\"/wiki/Low_Earth_orbit\" title=\"Low Earth orbit\">LEO</a>\n",
      "</td>\n",
      "<td><a href=\"/wiki/SpaceX\" title=\"SpaceX\">SpaceX</a>\n",
      "</td>\n",
      "<td class=\"table-success\" style=\"background: #9EFF9E; color:black; vertical-align: middle; text-align: center;\">Success\n",
      "</td>\n",
      "<td class=\"table-success\" style=\"background: #9EFF9E; color:black; vertical-align: middle; text-align: center;\">Success (<a class=\"mw-redirect\" href=\"/wiki/A_Shortfall_of_Gravitas\" title=\"A Shortfall of Gravitas\">ASOG</a>)\n",
      "</td></tr>\n",
      "<tr>\n",
      "<td colspan=\"9\">Launch of 21 Starlink v2 mini satellites to a 559 km (347 mi) orbit at an inclination of 43° to expand internet constellation.\n",
      "</td></tr>\n",
      "<tr id=\"F9-427\">\n",
      "<th rowspan=\"2\" scope=\"row\" style=\"text-align:center;\">427\n",
      "</th>\n",
      "<td>21 January 2025<br/>15:45<sup class=\"reference\" id=\"cite_ref-479\"><a href=\"#cite_note-479\"><span class=\"cite-bracket\">[</span>471<span class=\"cite-bracket\">]</span></a></sup>\n",
      "</td>\n",
      "<td><a href=\"/wiki/Falcon_9_Block_5\" title=\"Falcon 9 Block 5\">F9<span class=\"nowrap\"> </span>B5</a><br/><a href=\"/wiki/List_of_Falcon_9_first-stage_boosters#B1082\" title=\"List of Falcon 9 first-stage boosters\">B1082.10</a>\n",
      "</td>\n",
      "<td><a href=\"/wiki/Vandenberg_Space_Force_Base\" title=\"Vandenberg Space Force Base\">Vandenberg</a>, <a href=\"/wiki/Vandenberg_Space_Launch_Complex_4\" title=\"Vandenberg Space Launch Complex 4\">SLC‑4E</a>\n",
      "</td>\n",
      "<td><a href=\"/wiki/Starlink\" title=\"Starlink\">Starlink</a>: <a href=\"/wiki/List_of_Starlink_and_Starshield_launches#G11-8\" title=\"List of Starlink and Starshield launches\">Group 11-8</a> (27 satellites)\n",
      "</td>\n",
      "<td>~15,500 kg (34,200 lb)\n",
      "</td>\n",
      "<td><a href=\"/wiki/Low_Earth_orbit\" title=\"Low Earth orbit\">LEO</a>\n",
      "</td>\n",
      "<td><a href=\"/wiki/SpaceX\" title=\"SpaceX\">SpaceX</a>\n",
      "</td>\n",
      "<td class=\"table-success\" style=\"background: #9EFF9E; color:black; vertical-align: middle; text-align: center;\">Success\n",
      "</td>\n",
      "<td class=\"table-success\" style=\"background: #9EFF9E; color:black; vertical-align: middle; text-align: center;\">Success (<a class=\"mw-redirect\" href=\"/wiki/Of_Course_I_Still_Love_You\" title=\"Of Course I Still Love You\">OCISLY</a>)\n",
      "</td></tr>\n",
      "<tr>\n",
      "<td colspan=\"9\">Launch of 27 Starlink v2<span class=\"nowrap\"> </span>mini optimized satellites to a 535 km (332 mi) orbit at an inclination of 53° to expand internet constellation. Mission marks 400th Falcon booster landing.\n",
      "</td></tr>\n",
      "<tr id=\"F9-428\">\n",
      "<th rowspan=\"2\" scope=\"row\" style=\"text-align:center;\">428\n",
      "</th>\n",
      "<td>24 January 2025<br/>14:07<sup class=\"reference\" id=\"cite_ref-480\"><a href=\"#cite_note-480\"><span class=\"cite-bracket\">[</span>472<span class=\"cite-bracket\">]</span></a></sup>\n",
      "</td>\n",
      "<td><a href=\"/wiki/Falcon_9_Block_5\" title=\"Falcon 9 Block 5\">F9<span class=\"nowrap\"> </span>B5</a><br/><a href=\"/wiki/List_of_Falcon_9_first-stage_boosters#B1063\" title=\"List of Falcon 9 first-stage boosters\">B1063.23</a>\n",
      "</td>\n",
      "<td><a href=\"/wiki/Vandenberg_Space_Force_Base\" title=\"Vandenberg Space Force Base\">Vandenberg</a>, <a href=\"/wiki/Vandenberg_Space_Launch_Complex_4\" title=\"Vandenberg Space Launch Complex 4\">SLC‑4E</a>\n",
      "</td>\n",
      "<td><a href=\"/wiki/Starlink\" title=\"Starlink\">Starlink</a>: <a href=\"/wiki/List_of_Starlink_and_Starshield_launches#G11-6\" title=\"List of Starlink and Starshield launches\">Group 11-6</a> (23 satellites)\n",
      "</td>\n",
      "<td>~17,100 kg (37,700 lb)\n",
      "</td>\n",
      "<td><a href=\"/wiki/Low_Earth_orbit\" title=\"Low Earth orbit\">LEO</a>\n",
      "</td>\n",
      "<td><a href=\"/wiki/SpaceX\" title=\"SpaceX\">SpaceX</a>\n",
      "</td>\n",
      "<td class=\"table-success\" style=\"background: #9EFF9E; color:black; vertical-align: middle; text-align: center;\">Success\n",
      "</td>\n",
      "<td class=\"table-success\" style=\"background: #9EFF9E; color:black; vertical-align: middle; text-align: center;\">Success (<a class=\"mw-redirect\" href=\"/wiki/Of_Course_I_Still_Love_You\" title=\"Of Course I Still Love You\">OCISLY</a>)\n",
      "</td></tr>\n",
      "<tr>\n",
      "<td colspan=\"9\">Launch of 23 Starlink v2<span class=\"nowrap\"> </span>mini satellites to a 535 km (332 mi) orbit at an inclination of 53° to expand internet constellation. With this launch, SpaceX has broken its pad turnaround time record at Space Launch Complex 4 East. Previous record was 3 days, 15 hours, 23 minutes, and 40 seconds, this has now gone down to 2 days, 22 hours, 21 minutes, and 10 seconds.\n",
      "</td></tr>\n",
      "<tr id=\"F9-429\">\n",
      "<th rowspan=\"2\" scope=\"row\" style=\"text-align:center;\">429\n",
      "</th>\n",
      "<td>27 January 2025<br/>22:05<sup class=\"reference\" id=\"cite_ref-481\"><a href=\"#cite_note-481\"><span class=\"cite-bracket\">[</span>473<span class=\"cite-bracket\">]</span></a></sup>\n",
      "</td>\n",
      "<td><a href=\"/wiki/Falcon_9_Block_5\" title=\"Falcon 9 Block 5\">F9<span class=\"nowrap\"> </span>B5</a><br/><a href=\"/wiki/List_of_Falcon_9_first-stage_boosters#B1076\" title=\"List of Falcon 9 first-stage boosters\">B1076.20</a>\n",
      "</td>\n",
      "<td><a href=\"/wiki/Cape_Canaveral_Space_Force_Station\" title=\"Cape Canaveral Space Force Station\">Cape Canaveral</a>, <a href=\"/wiki/Cape_Canaveral_Space_Launch_Complex_40\" title=\"Cape Canaveral Space Launch Complex 40\">SLC‑40</a>\n",
      "</td>\n",
      "<td><a href=\"/wiki/Starlink\" title=\"Starlink\">Starlink</a>: <a href=\"/wiki/List_of_Starlink_and_Starshield_launches#G12-7\" title=\"List of Starlink and Starshield launches\">Group 12-7</a> (21 satellites)\n",
      "</td>\n",
      "<td>~16,500 kg (36,400 lb)\n",
      "</td>\n",
      "<td><a href=\"/wiki/Low_Earth_orbit\" title=\"Low Earth orbit\">LEO</a>\n",
      "</td>\n",
      "<td><a href=\"/wiki/SpaceX\" title=\"SpaceX\">SpaceX</a>\n",
      "</td>\n",
      "<td class=\"table-success\" style=\"background: #9EFF9E; color:black; vertical-align: middle; text-align: center;\">Success\n",
      "</td>\n",
      "<td class=\"table-success\" style=\"background: #9EFF9E; color:black; vertical-align: middle; text-align: center;\">Success (<a class=\"mw-redirect\" href=\"/wiki/A_Shortfall_of_Gravitas\" title=\"A Shortfall of Gravitas\">ASOG</a>)\n",
      "</td></tr>\n",
      "<tr>\n",
      "<td colspan=\"9\">Launch of 21 Starlink v2 mini satellites, including 13 with direct-to-cell connectivity, to a 559 km (347 mi) orbit at an inclination of 43° to expand internet constellation.\n",
      "</td></tr>\n",
      "<tr id=\"F9-430\">\n",
      "<th rowspan=\"2\" scope=\"row\" style=\"text-align:center;\">430\n",
      "</th>\n",
      "<td>30 January 2025<br/>01:34<sup class=\"reference\" id=\"cite_ref-482\"><a href=\"#cite_note-482\"><span class=\"cite-bracket\">[</span>474<span class=\"cite-bracket\">]</span></a></sup>\n",
      "</td>\n",
      "<td><a href=\"/wiki/Falcon_9_Block_5\" title=\"Falcon 9 Block 5\">F9<span class=\"nowrap\"> </span>B5</a><br/><a href=\"/wiki/List_of_Falcon_9_first-stage_boosters#B1073\" title=\"List of Falcon 9 first-stage boosters\">B1073.21</a>\n",
      "</td>\n",
      "<td><a href=\"/wiki/Kennedy_Space_Center\" title=\"Kennedy Space Center\">Kennedy</a>, <a href=\"/wiki/Kennedy_Space_Center_Launch_Complex_39A\" title=\"Kennedy Space Center Launch Complex 39A\">LC‑39A</a>\n",
      "</td>\n",
      "<td><a href=\"/wiki/Spainsat_NG\" title=\"Spainsat NG\">Spainsat NG</a> I\n",
      "</td>\n",
      "<td>6,100 kg (13,400 lb)<sup class=\"reference\" id=\"cite_ref-483\"><a href=\"#cite_note-483\"><span class=\"cite-bracket\">[</span>475<span class=\"cite-bracket\">]</span></a></sup>\n",
      "</td>\n",
      "<td><a href=\"/wiki/Geostationary_transfer_orbit\" title=\"Geostationary transfer orbit\">GTO</a>\n",
      "</td>\n",
      "<td><a href=\"/wiki/Hisdesat\" title=\"Hisdesat\">Hisdesat</a>\n",
      "</td>\n",
      "<td class=\"table-success\" style=\"background: #9EFF9E; color:black; vertical-align: middle; text-align: center;\">Success\n",
      "</td>\n",
      "<td class=\"table-na\" data-sort-value=\"\" style=\"background: var(--background-color-interactive, #ececec); color: var(--color-base, inherit); vertical-align: middle; text-align: center;\">No attempt\n",
      "</td></tr>\n",
      "<tr>\n",
      "<td colspan=\"9\">Communications satellite built on the <a href=\"/wiki/Eurostar_(satellite_bus)\" title=\"Eurostar (satellite bus)\">Eurostar-Neo</a> platform for the Spanish government.<sup class=\"reference\" id=\"cite_ref-Spainsat-NG_484-0\"><a href=\"#cite_note-Spainsat-NG-484\"><span class=\"cite-bracket\">[</span>476<span class=\"cite-bracket\">]</span></a></sup> First of two launches for the <a href=\"/wiki/Spainsat_NG\" title=\"Spainsat NG\">Spainsat NG</a> program. The booster was expended due to the performance needed to launch the satellite's mass to a geostationary transfer orbit.\n",
      "</td></tr>\n",
      "<tr id=\"F9-431\">\n",
      "<th rowspan=\"2\" scope=\"row\" style=\"text-align:center;\">431\n",
      "</th>\n",
      "<td>1 February 2025<br/>23:02<sup class=\"reference\" id=\"cite_ref-485\"><a href=\"#cite_note-485\"><span class=\"cite-bracket\">[</span>477<span class=\"cite-bracket\">]</span></a></sup>\n",
      "</td>\n",
      "<td><a href=\"/wiki/Falcon_9_Block_5\" title=\"Falcon 9 Block 5\">F9<span class=\"nowrap\"> </span>B5</a><br/><a href=\"/wiki/List_of_Falcon_9_first-stage_boosters#B1075\" title=\"List of Falcon 9 first-stage boosters\">B1075.17</a>\n",
      "</td>\n",
      "<td><a href=\"/wiki/Vandenberg_Space_Force_Base\" title=\"Vandenberg Space Force Base\">Vandenberg</a>, <a class=\"mw-redirect\" href=\"/wiki/SLC-4E\" title=\"SLC-4E\">SLC-4E</a>\n",
      "</td>\n",
      "<td><a href=\"/wiki/Starlink\" title=\"Starlink\">Starlink</a>: <a href=\"/wiki/List_of_Starlink_and_Starshield_launches#11-4\" title=\"List of Starlink and Starshield launches\">Group 11-4</a> (22<span class=\"nowrap\"> </span>satellites)\n",
      "</td>\n",
      "<td>~16,700 kg (36,800 lb)\n",
      "</td>\n",
      "<td><a href=\"/wiki/Low_Earth_orbit\" title=\"Low Earth orbit\">LEO</a>\n",
      "</td>\n",
      "<td><a href=\"/wiki/SpaceX\" title=\"SpaceX\">SpaceX</a>\n",
      "</td>\n",
      "<td class=\"table-success\" style=\"background: #9EFF9E; color:black; vertical-align: middle; text-align: center;\">Success\n",
      "</td>\n",
      "<td class=\"table-success\" style=\"background: #9EFF9E; color:black; vertical-align: middle; text-align: center;\">Success (<a class=\"mw-redirect\" href=\"/wiki/Of_Course_I_Still_Love_You\" title=\"Of Course I Still Love You\">OCISLY</a>)\n",
      "</td></tr>\n",
      "<tr>\n",
      "<td colspan=\"9\">Launch of 22 Starlink v2<span class=\"nowrap\"> </span>mini satellites to a 535 km (332 mi) orbit at an inclination of 53° to expand internet constellation. The second stage's deorbit burn failed, causing it to remain in orbit.<sup class=\"reference\" id=\"cite_ref-486\"><a href=\"#cite_note-486\"><span class=\"cite-bracket\">[</span>478<span class=\"cite-bracket\">]</span></a></sup> This is the third issue affecting a second stage in the past six months.\n",
      "</td></tr>\n",
      "<tr id=\"F9-432\">\n",
      "<th rowspan=\"2\" scope=\"row\" style=\"text-align:center;\">432\n",
      "</th>\n",
      "<td>4 February 2025<br/>10:15<sup class=\"reference\" id=\"cite_ref-487\"><a href=\"#cite_note-487\"><span class=\"cite-bracket\">[</span>479<span class=\"cite-bracket\">]</span></a></sup>\n",
      "</td>\n",
      "<td><a href=\"/wiki/Falcon_9_Block_5\" title=\"Falcon 9 Block 5\">F9<span class=\"nowrap\"> </span>B5</a><br/><a href=\"/wiki/List_of_Falcon_9_first-stage_boosters#B1069\" title=\"List of Falcon 9 first-stage boosters\">B1069.21</a>\n",
      "</td>\n",
      "<td><a href=\"/wiki/Cape_Canaveral_Space_Force_Station\" title=\"Cape Canaveral Space Force Station\">Cape Canaveral</a>, <a href=\"/wiki/Cape_Canaveral_Space_Launch_Complex_40\" title=\"Cape Canaveral Space Launch Complex 40\">SLC‑40</a>\n",
      "</td>\n",
      "<td><a href=\"/wiki/Starlink\" title=\"Starlink\">Starlink</a>: <a href=\"/wiki/List_of_Starlink_and_Starshield_launches#G12-3\" title=\"List of Starlink and Starshield launches\">Group 12-3</a> (21 satellites)\n",
      "</td>\n",
      "<td>~16,500 kg (36,400 lb)\n",
      "</td>\n",
      "<td><a href=\"/wiki/Low_Earth_orbit\" title=\"Low Earth orbit\">LEO</a>\n",
      "</td>\n",
      "<td><a href=\"/wiki/SpaceX\" title=\"SpaceX\">SpaceX</a>\n",
      "</td>\n",
      "<td class=\"table-success\" style=\"background: #9EFF9E; color:black; vertical-align: middle; text-align: center;\">Success\n",
      "</td>\n",
      "<td class=\"table-success\" style=\"background: #9EFF9E; color:black; vertical-align: middle; text-align: center;\">Success (<a class=\"mw-redirect\" href=\"/wiki/Just_Read_the_Instructions\" title=\"Just Read the Instructions\">JRTI</a>)\n",
      "</td></tr>\n",
      "<tr>\n",
      "<td colspan=\"9\">Launch of 21 Starlink v2 mini satellites, including 13 with direct-to-cell connectivity, to a 559 km (347 mi) orbit at an inclination of 43° to expand internet constellation.\n",
      "</td></tr>\n",
      "<tr id=\"F9-433\">\n",
      "<th rowspan=\"2\" scope=\"row\" style=\"text-align:center;\">433\n",
      "</th>\n",
      "<td>4 February 2025<br/>23:13<sup class=\"reference\" id=\"cite_ref-488\"><a href=\"#cite_note-488\"><span class=\"cite-bracket\">[</span>480<span class=\"cite-bracket\">]</span></a></sup>\n",
      "</td>\n",
      "<td><a href=\"/wiki/Falcon_9_Block_5\" title=\"Falcon 9 Block 5\">F9<span class=\"nowrap\"> </span>B5</a><br/><a href=\"/wiki/List_of_Falcon_9_first-stage_boosters#B1086\" title=\"List of Falcon 9 first-stage boosters\">B1086.4</a>\n",
      "</td>\n",
      "<td><a href=\"/wiki/Kennedy_Space_Center\" title=\"Kennedy Space Center\">Kennedy</a>, <a href=\"/wiki/Kennedy_Space_Center_Launch_Complex_39A\" title=\"Kennedy Space Center Launch Complex 39A\">LC‑39A</a>\n",
      "</td>\n",
      "<td><a href=\"/wiki/WorldView_Legion\" title=\"WorldView Legion\">WorldView Legion</a> 5 &amp; 6 (2 satellites)\n",
      "</td>\n",
      "<td>1,500 kg (3,300 lb)\n",
      "</td>\n",
      "<td><a href=\"/wiki/Low_Earth_orbit\" title=\"Low Earth orbit\">LEO</a>\n",
      "</td>\n",
      "<td><a href=\"/wiki/Maxar_Technologies\" title=\"Maxar Technologies\">Maxar Technologies</a>\n",
      "</td>\n",
      "<td class=\"table-success\" style=\"background: #9EFF9E; color:black; vertical-align: middle; text-align: center;\">Success\n",
      "</td>\n",
      "<td class=\"table-success\" style=\"background: #9EFF9E; color:black; vertical-align: middle; text-align: center;\">Success (<a class=\"mw-redirect\" href=\"/wiki/SpaceX_Landing_Zone_1\" title=\"SpaceX Landing Zone 1\">LZ‑1</a>)\n",
      "</td></tr>\n",
      "<tr>\n",
      "<td colspan=\"9\">Two earth observation satellites built by <a href=\"/wiki/Maxar_Technologies\" title=\"Maxar Technologies\">Maxar Technologies</a>.<sup class=\"reference\" id=\"cite_ref-spacenews.com_489-0\"><a href=\"#cite_note-spacenews.com-489\"><span class=\"cite-bracket\">[</span>481<span class=\"cite-bracket\">]</span></a></sup><sup class=\"reference\" id=\"cite_ref-SN240423_490-0\"><a href=\"#cite_note-SN240423-490\"><span class=\"cite-bracket\">[</span>482<span class=\"cite-bracket\">]</span></a></sup><sup class=\"reference\" id=\"cite_ref-worldviewLegion10QSept22_491-0\"><a href=\"#cite_note-worldviewLegion10QSept22-491\"><span class=\"cite-bracket\">[</span>483<span class=\"cite-bracket\">]</span></a></sup>\n",
      "</td></tr></tbody></table>\n"
     ]
    }
   ],
   "source": [
    "# Let's print the third table and check its content\n",
    "first_launch_table = html_tables[2]\n",
    "print(first_launch_table)"
   ]
  },
  {
   "cell_type": "markdown",
   "metadata": {},
   "source": [
    "You should able to see the columns names embedded in the table header elements `<th>` as follows:\n"
   ]
  },
  {
   "cell_type": "markdown",
   "metadata": {},
   "source": [
    "```\n",
    "<tr>\n",
    "<th scope=\"col\">Flight No.\n",
    "</th>\n",
    "<th scope=\"col\">Date and<br/>time (<a href=\"/wiki/Coordinated_Universal_Time\" title=\"Coordinated Universal Time\">UTC</a>)\n",
    "</th>\n",
    "<th scope=\"col\"><a href=\"/wiki/List_of_Falcon_9_first-stage_boosters\" title=\"List of Falcon 9 first-stage boosters\">Version,<br/>Booster</a> <sup class=\"reference\" id=\"cite_ref-booster_11-0\"><a href=\"#cite_note-booster-11\">[b]</a></sup>\n",
    "</th>\n",
    "<th scope=\"col\">Launch site\n",
    "</th>\n",
    "<th scope=\"col\">Payload<sup class=\"reference\" id=\"cite_ref-Dragon_12-0\"><a href=\"#cite_note-Dragon-12\">[c]</a></sup>\n",
    "</th>\n",
    "<th scope=\"col\">Payload mass\n",
    "</th>\n",
    "<th scope=\"col\">Orbit\n",
    "</th>\n",
    "<th scope=\"col\">Customer\n",
    "</th>\n",
    "<th scope=\"col\">Launch<br/>outcome\n",
    "</th>\n",
    "<th scope=\"col\"><a href=\"/wiki/Falcon_9_first-stage_landing_tests\" title=\"Falcon 9 first-stage landing tests\">Booster<br/>landing</a>\n",
    "</th></tr>\n",
    "```\n"
   ]
  },
  {
   "cell_type": "markdown",
   "metadata": {},
   "source": [
    "Next, we just need to iterate through the `<th>` elements and apply the provided `extract_column_from_header()` to extract column name one by one\n"
   ]
  },
  {
   "cell_type": "code",
   "execution_count": 14,
   "metadata": {
    "tags": []
   },
   "outputs": [],
   "source": [
    "column_names = []\n",
    "\n",
    "for th in first_launch_table.find_all('th'):\n",
    "    name = extract_column_from_header(th) \n",
    "    if name and len(name) > 0: \n",
    "        column_names.append(name)"
   ]
  },
  {
   "cell_type": "markdown",
   "metadata": {},
   "source": [
    "Check the extracted column names\n"
   ]
  },
  {
   "cell_type": "code",
   "execution_count": 15,
   "metadata": {
    "tags": []
   },
   "outputs": [
    {
     "name": "stdout",
     "output_type": "stream",
     "text": [
      "['Flight No.', 'Date and time ( )', 'Launch site', 'Payload', 'Payload mass', 'Orbit', 'Customer', 'Launch outcome']\n"
     ]
    }
   ],
   "source": [
    "print(column_names)"
   ]
  },
  {
   "cell_type": "markdown",
   "metadata": {},
   "source": [
    "## TASK 3: Create a data frame by parsing the launch HTML tables\n"
   ]
  },
  {
   "cell_type": "markdown",
   "metadata": {},
   "source": [
    "We will create an empty dictionary with keys from the extracted column names in the previous task. Later, this dictionary will be converted into a Pandas dataframe\n"
   ]
  },
  {
   "cell_type": "code",
   "execution_count": 16,
   "metadata": {
    "tags": []
   },
   "outputs": [],
   "source": [
    "launch_dict= dict.fromkeys(column_names)\n",
    "\n",
    "# Remove an irrelvant column\n",
    "del launch_dict['Date and time ( )']\n",
    "\n",
    "# Let's initial the launch_dict with each value to be an empty list\n",
    "launch_dict['Flight No.'] = []\n",
    "launch_dict['Launch site'] = []\n",
    "launch_dict['Payload'] = []\n",
    "launch_dict['Payload mass'] = []\n",
    "launch_dict['Orbit'] = []\n",
    "launch_dict['Customer'] = []\n",
    "launch_dict['Launch outcome'] = []\n",
    "# Added some new columns\n",
    "launch_dict['Version Booster']=[]\n",
    "launch_dict['Booster landing']=[]\n",
    "launch_dict['Date']=[]\n",
    "launch_dict['Time']=[]"
   ]
  },
  {
   "cell_type": "markdown",
   "metadata": {},
   "source": [
    "Next, we just need to fill up the `launch_dict` with launch records extracted from table rows.\n"
   ]
  },
  {
   "cell_type": "markdown",
   "metadata": {},
   "source": [
    "Usually, HTML tables in Wiki pages are likely to contain unexpected annotations and other types of noises, such as reference links `B0004.1[8]`, missing values `N/A [e]`, inconsistent formatting, etc.\n"
   ]
  },
  {
   "cell_type": "markdown",
   "metadata": {},
   "source": [
    "To simplify the parsing process, we have provided an incomplete code snippet below to help you to fill up the `launch_dict`. Please complete the following code snippet with TODOs or you can choose to write your own logic to parse all launch tables:\n"
   ]
  },
  {
   "cell_type": "code",
   "execution_count": 17,
   "metadata": {
    "tags": []
   },
   "outputs": [],
   "source": [
    "extracted_row = 0\n",
    "#Extract each table \n",
    "for table_number,table in enumerate(soup.find_all('table',\"wikitable plainrowheaders collapsible\")):\n",
    "   # get table row \n",
    "    for rows in table.find_all(\"tr\"):\n",
    "        #check to see if first table heading is as number corresponding to launch a number \n",
    "        if rows.th:\n",
    "            if rows.th.string:\n",
    "                flight_number=rows.th.string.strip()\n",
    "                flag=flight_number.isdigit()\n",
    "        else:\n",
    "            flag=False\n",
    "        #get table element \n",
    "        row=rows.find_all('td')\n",
    "        #if it is number save cells in a dictonary \n",
    "        if flag:\n",
    "            extracted_row += 1\n",
    "            # Flight Number value\n",
    "            # TODO: Append the flight_number into launch_dict with key `Flight No.`\n",
    "            #print(flight_number)\n",
    "            datatimelist=date_time(row[0])\n",
    "            \n",
    "            # Date value\n",
    "            # TODO: Append the date into launch_dict with key `Date`\n",
    "            date = datatimelist[0].strip(',')\n",
    "            #print(date)\n",
    "            \n",
    "            # Time value\n",
    "            # TODO: Append the time into launch_dict with key `Time`\n",
    "            time = datatimelist[1]\n",
    "            #print(time)\n",
    "              \n",
    "            # Booster version\n",
    "            # TODO: Append the bv into launch_dict with key `Version Booster`\n",
    "            bv=booster_version(row[1])\n",
    "            if not(bv):\n",
    "                bv=row[1].a.string\n",
    "            print(bv)\n",
    "            \n",
    "            # Launch Site\n",
    "            # TODO: Append the bv into launch_dict with key `Launch Site`\n",
    "            launch_site = row[2].a.string\n",
    "            #print(launch_site)\n",
    "            \n",
    "            # Payload\n",
    "            # TODO: Append the payload into launch_dict with key `Payload`\n",
    "            payload = row[3].a.string\n",
    "            #print(payload)\n",
    "            \n",
    "            # Payload Mass\n",
    "            # TODO: Append the payload_mass into launch_dict with key `Payload mass`\n",
    "            payload_mass = get_mass(row[4])\n",
    "            #print(payload)\n",
    "            \n",
    "            # Orbit\n",
    "            # TODO: Append the orbit into launch_dict with key `Orbit`\n",
    "            orbit = row[5].a.string\n",
    "            #print(orbit)\n",
    "            \n",
    "            # Customer\n",
    "            # TODO: Append the customer into launch_dict with key `Customer`\n",
    "            customer = row[6].a.string\n",
    "            #print(customer)\n",
    "            \n",
    "            # Launch outcome\n",
    "            # TODO: Append the launch_outcome into launch_dict with key `Launch outcome`\n",
    "            launch_outcome = list(row[7].strings)[0]\n",
    "            #print(launch_outcome)\n",
    "            \n",
    "            # Booster landing\n",
    "            # TODO: Append the launch_outcome into launch_dict with key `Booster landing`\n",
    "            booster_landing = landing_status(row[8])\n",
    "            #print(booster_landing)\n",
    "            "
   ]
  },
  {
   "cell_type": "markdown",
   "metadata": {},
   "source": [
    "After you have fill in the parsed launch record values into `launch_dict`, you can create a dataframe from it.\n"
   ]
  },
  {
   "cell_type": "code",
   "execution_count": 18,
   "metadata": {
    "tags": []
   },
   "outputs": [
    {
     "name": "stderr",
     "output_type": "stream",
     "text": [
      "/home/jupyterlab/conda/envs/python/lib/python3.7/site-packages/ipykernel_launcher.py:1: DeprecationWarning: The default dtype for empty Series will be 'object' instead of 'float64' in a future version. Specify a dtype explicitly to silence this warning.\n",
      "  \"\"\"Entry point for launching an IPython kernel.\n"
     ]
    }
   ],
   "source": [
    "df= pd.DataFrame({ key:pd.Series(value) for key, value in launch_dict.items() })"
   ]
  },
  {
   "cell_type": "markdown",
   "metadata": {},
   "source": [
    "We can now export it to a <b>CSV</b> for the next section, but to make the answers consistent and in case you have difficulties finishing this lab. \n",
    "\n",
    "Following labs will be using a provided dataset to make each lab independent. \n"
   ]
  },
  {
   "cell_type": "markdown",
   "metadata": {},
   "source": [
    "<code>df.to_csv('spacex_web_scraped.csv', index=False)</code>\n"
   ]
  },
  {
   "cell_type": "markdown",
   "metadata": {},
   "source": [
    "## Authors\n"
   ]
  },
  {
   "cell_type": "markdown",
   "metadata": {},
   "source": [
    "<a href=\"https://www.linkedin.com/in/yan-luo-96288783/\">Yan Luo</a>\n"
   ]
  },
  {
   "cell_type": "markdown",
   "metadata": {},
   "source": [
    "<a href=\"https://www.linkedin.com/in/nayefaboutayoun/\">Nayef Abou Tayoun</a>\n"
   ]
  },
  {
   "cell_type": "markdown",
   "metadata": {},
   "source": [
    "<!--\n",
    "## Change Log\n",
    "-->\n"
   ]
  },
  {
   "cell_type": "markdown",
   "metadata": {},
   "source": [
    "<!--\n",
    "| Date (YYYY-MM-DD) | Version | Changed By | Change Description      |\n",
    "| ----------------- | ------- | ---------- | ----------------------- |\n",
    "| 2021-06-09        | 1.0     | Yan Luo    | Tasks updates           |\n",
    "| 2020-11-10        | 1.0     | Nayef      | Created the initial version |\n",
    "-->\n"
   ]
  },
  {
   "cell_type": "markdown",
   "metadata": {},
   "source": [
    "Copyright © 2021 IBM Corporation. All rights reserved.\n"
   ]
  }
 ],
 "metadata": {
  "kernelspec": {
   "display_name": "Python",
   "language": "python",
   "name": "conda-env-python-py"
  },
  "language_info": {
   "codemirror_mode": {
    "name": "ipython",
    "version": 3
   },
   "file_extension": ".py",
   "mimetype": "text/x-python",
   "name": "python",
   "nbconvert_exporter": "python",
   "pygments_lexer": "ipython3",
   "version": "3.7.12"
  },
  "prev_pub_hash": "64f1b0aac408997185c47caba18730e0028b75e7934a0e5bf0ae73c5cb7ba677"
 },
 "nbformat": 4,
 "nbformat_minor": 4
}
